{
 "cells": [
  {
   "cell_type": "markdown",
   "id": "c4494d66",
   "metadata": {},
   "source": [
    "# Exp No.2 Exporting and Manipulating the Data "
   ]
  },
  {
   "cell_type": "markdown",
   "id": "9a25c043",
   "metadata": {},
   "source": [
    "### Roll No. - 22357\n",
    "##### Performed Date:- [09/02/22]   Submission Date:- [16/02/22] "
   ]
  },
  {
   "cell_type": "code",
   "execution_count": 1,
   "id": "81e4dee1",
   "metadata": {},
   "outputs": [],
   "source": [
    "import numpy as np\n",
    "import pandas as pd"
   ]
  },
  {
   "cell_type": "code",
   "execution_count": 2,
   "id": "7b1ce20d",
   "metadata": {},
   "outputs": [],
   "source": [
    "division, rollno, name, marks = [], [], [], []"
   ]
  },
  {
   "cell_type": "code",
   "execution_count": 3,
   "id": "98a0093f",
   "metadata": {},
   "outputs": [
    {
     "name": "stdout",
     "output_type": "stream",
     "text": [
      "Enter the total number of observations: 1\n",
      "Enter the division of student: SE 7\n",
      "Enter the roll no of student: 22357\n",
      "Enter the name of student: Apoorva Sarnaik\n",
      "Enter the marks of student: 100\n"
     ]
    }
   ],
   "source": [
    "observations = int(input(\"Enter the total number of observations: \"))\n",
    "\n",
    "for observation in range(0, observations):\n",
    "    div = str(input(\"Enter the division of student: \"))\n",
    "    division.append(div)\n",
    "    \n",
    "    roll_no = int(input(\"Enter the roll no of student: \"))\n",
    "    rollno.append(roll_no)\n",
    "    \n",
    "    name_ = str(input(\"Enter the name of student: \"))\n",
    "    name.append(name_)\n",
    "    \n",
    "    marks_ = float(input(\"Enter the marks of student: \"))\n",
    "    marks.append(marks_)"
   ]
  },
  {
   "cell_type": "code",
   "execution_count": 4,
   "id": "8b1390b7",
   "metadata": {},
   "outputs": [],
   "source": [
    "data = {\"division\": division,\n",
    "       \"rollno\": rollno,\n",
    "       \"name\": name,\n",
    "       \"marks\": marks}"
   ]
  },
  {
   "cell_type": "code",
   "execution_count": 5,
   "id": "ee8c3201",
   "metadata": {},
   "outputs": [
    {
     "data": {
      "text/html": [
       "<div>\n",
       "<style scoped>\n",
       "    .dataframe tbody tr th:only-of-type {\n",
       "        vertical-align: middle;\n",
       "    }\n",
       "\n",
       "    .dataframe tbody tr th {\n",
       "        vertical-align: top;\n",
       "    }\n",
       "\n",
       "    .dataframe thead th {\n",
       "        text-align: right;\n",
       "    }\n",
       "</style>\n",
       "<table border=\"1\" class=\"dataframe\">\n",
       "  <thead>\n",
       "    <tr style=\"text-align: right;\">\n",
       "      <th></th>\n",
       "      <th>division</th>\n",
       "      <th>rollno</th>\n",
       "      <th>name</th>\n",
       "      <th>marks</th>\n",
       "    </tr>\n",
       "  </thead>\n",
       "  <tbody>\n",
       "    <tr>\n",
       "      <th>0</th>\n",
       "      <td>SE 7</td>\n",
       "      <td>22357</td>\n",
       "      <td>Apoorva Sarnaik</td>\n",
       "      <td>100.0</td>\n",
       "    </tr>\n",
       "  </tbody>\n",
       "</table>\n",
       "</div>"
      ],
      "text/plain": [
       "  division  rollno             name  marks\n",
       "0     SE 7   22357  Apoorva Sarnaik  100.0"
      ]
     },
     "execution_count": 5,
     "metadata": {},
     "output_type": "execute_result"
    }
   ],
   "source": [
    "data = pd.DataFrame(data)\n",
    "data"
   ]
  },
  {
   "cell_type": "code",
   "execution_count": 6,
   "id": "8683b840",
   "metadata": {},
   "outputs": [],
   "source": [
    "data.to_csv(\"Students-Information-Data.csv\")"
   ]
  }
 ],
 "metadata": {
  "kernelspec": {
   "display_name": "Python 3 (ipykernel)",
   "language": "python",
   "name": "python3"
  },
  "language_info": {
   "codemirror_mode": {
    "name": "ipython",
    "version": 3
   },
   "file_extension": ".py",
   "mimetype": "text/x-python",
   "name": "python",
   "nbconvert_exporter": "python",
   "pygments_lexer": "ipython3",
   "version": "3.9.7"
  }
 },
 "nbformat": 4,
 "nbformat_minor": 5
}
